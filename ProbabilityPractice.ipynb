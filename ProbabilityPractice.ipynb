{
 "cells": [
  {
   "cell_type": "markdown",
   "metadata": {},
   "source": [
    "# Probability Practice\n",
    "## Simple, Joint, Marginal, Conditional probability and Bayes Theorem\n",
    "\n",
    "**Objective**\n",
    "1. Define probability and axioms/corollaries \n",
    "2. Apply probability properties to solve example problems\n",
    "\n",
    "**Rubric**\n",
    "- 4 points: Completes all practice problems as described. Checks work against  answer key in class before submitting.\n",
    "- 3 points: Completes some of the practice problems as described or completes assignment, but does not check answer key first.\n",
    "- 2 points: Missing or incomplete\n",
    "\n",
    "**Syntax**\n",
    "- $\\cap$: Intersection, $A \\cap B$ represents the overlap between $A$ and $B$.\n",
    "- $\\cup$: Union, $A \\cup B$ represents $A$, $B$, and their overlap. When you are dealing with unions, watch out for double counting!\n",
    "- $P(A)$: Probability of an event $A$\n",
    "- $n(A)$: Number of observations in the event $A$"
   ]
  },
  {
   "cell_type": "markdown",
   "metadata": {},
   "source": [
    "## Simple probability refers to the probability of occurrence of a simple event"
   ]
  },
  {
   "cell_type": "markdown",
   "metadata": {},
   "source": [
    "Probability of an event $X$, $P(X)$ is given by\n",
    "$P(X) = \\frac{Number \\quad of \\quad observations \\quad in \\quad favor \\quad of \\quad an \\quad event \\quad X}{Total \\quad Number \\quad of \\quad observations}$ "
   ]
  },
  {
   "cell_type": "markdown",
   "metadata": {},
   "source": [
    "### Example 1\n",
    "The data collected by an advertisement agency has revealed that out of 2800 visitors, 56 visitors clicked on 1 advertisement(and only 1), 30 clicked on 2 advertisements(and only 2) and 14 clicked on 3 advertisements and the remaining did not click on any advertisement. \n",
    "\n",
    "Calculate\n",
    "* a) The probability that a visitor to the website will not click on any  advertisement.\n",
    "* b) The probability that a visitor to the website will click on an advertisement.\n",
    "* c) The probability that a visitor to the website will click on more than one advertisement."
   ]
  },
  {
   "cell_type": "markdown",
   "metadata": {},
   "source": [
    "### Solution\n",
    "\n",
    "a) The probability that a visitor to the website will not click on any advertisement."
   ]
  },
  {
   "cell_type": "code",
   "execution_count": null,
   "metadata": {},
   "outputs": [],
   "source": []
  },
  {
   "cell_type": "markdown",
   "metadata": {},
   "source": [
    "b) The probability that a visitor to the website will click on an advertisement."
   ]
  },
  {
   "cell_type": "code",
   "execution_count": null,
   "metadata": {},
   "outputs": [],
   "source": []
  },
  {
   "cell_type": "markdown",
   "metadata": {},
   "source": [
    "c) The probability that a visitor to the website will click on more than one advertisement."
   ]
  },
  {
   "cell_type": "code",
   "execution_count": null,
   "metadata": {},
   "outputs": [],
   "source": []
  },
  {
   "cell_type": "markdown",
   "metadata": {},
   "source": [
    "## Joint probability refers to the probability of occurrence involving two or more events"
   ]
  },
  {
   "cell_type": "markdown",
   "metadata": {},
   "source": [
    "Let A and B be the two events in a sample space. Then the joint probability if the two events denoted by $P(A \\cap B)$, is given by \n",
    "$P(A \\cap B) = \\frac{Number \\quad of \\quad observations \\quad in \\quad A \\cap B } {Total \\quad Number \\quad of \\quad observations}$ or $P(A \\cap B) = P(A) * P(B|A)$ or $P(A \\cap B) = P(A|B) * P(B)$. \n",
    "\n",
    "Those last two definitions may not make sense just yet, but keep them in your back pocket for later. \n"
   ]
  },
  {
   "cell_type": "markdown",
   "metadata": {},
   "source": [
    "### Example 1\n",
    "At a popular company service center, a total of 100 complaints were received. 80 customers complained about late delivery of the items and 60 complained about poor product quality.\n",
    "\n",
    "* a) Calculate the probability that a customer complaint will be about both product quality and late delivery.\n",
    "* b) What is the probability that a complaint will be only about  late delivery?"
   ]
  },
  {
   "cell_type": "markdown",
   "metadata": {},
   "source": [
    "### Solution\n",
    "\n",
    "a) Calculate the probability that a customer complaint will be about both product quality and late delivery"
   ]
  },
  {
   "cell_type": "code",
   "execution_count": null,
   "metadata": {},
   "outputs": [],
   "source": [
    "\n"
   ]
  },
  {
   "cell_type": "markdown",
   "metadata": {},
   "source": [
    "b. What is the probability that a complaint will be only about late delivery"
   ]
  },
  {
   "cell_type": "code",
   "execution_count": null,
   "metadata": {
    "scrolled": true
   },
   "outputs": [],
   "source": []
  },
  {
   "cell_type": "markdown",
   "metadata": {},
   "source": [
    "### Example 2\n",
    "|Planned to purchase Apple iPhone Xs Max | Actually placed an order for Apple iPhone Xs Max- Yes |  Actually placed an order for Apple iPhone Xs Max - No | Total |\n",
    "| ------------- | ------------ | ---------- | -----|\n",
    "| Yes | 400 | 100 | 500 |\n",
    "| No | 200 | 1300 | 1500 |\n",
    "| Total | 600 | 1400 | 2000 |\n",
    "\n",
    "Calculate the joint probability of the people who planned to purchase and actually placed an order.\n",
    "\n",
    "### Solution"
   ]
  },
  {
   "cell_type": "code",
   "execution_count": null,
   "metadata": {},
   "outputs": [],
   "source": []
  },
  {
   "cell_type": "markdown",
   "metadata": {},
   "source": [
    "## Marginal probability refers to the probability of an event without any condition"
   ]
  },
  {
   "cell_type": "markdown",
   "metadata": {},
   "source": [
    "P(A) = P(A and $B_{1}$) + P(A and $B_{2}$) + P(A and $B_{3}$) + ... + P(A and $B_{k}$) \n",
    "where $B_{1}$, $B_{2}$, $B_{3}$, ..., $B_{k}$ are k mutually exclusive and collectively exhaustive events, defined as follows:\n",
    "\n",
    "* Two events are mutually exclusive if both the events cannot occur simultaneously.\n",
    "* A set of events are collectively exhaustive if one of the events must occur."
   ]
  },
  {
   "cell_type": "markdown",
   "metadata": {},
   "source": [
    "### Example 1"
   ]
  },
  {
   "cell_type": "markdown",
   "metadata": {},
   "source": [
    "Use the purchase of Apple iPhone Xs Max table.\n",
    "What is the probability of planning to purchase Apple iPhone Xs Max?"
   ]
  },
  {
   "cell_type": "markdown",
   "metadata": {},
   "source": [
    "### Solution\n",
    "What is the probability of planning to purchase Apple iPhone Xs Max?"
   ]
  },
  {
   "cell_type": "code",
   "execution_count": null,
   "metadata": {},
   "outputs": [],
   "source": []
  },
  {
   "cell_type": "markdown",
   "metadata": {},
   "source": [
    "Note that you get the same result by adding the number of outcomes that make up the simple event *planned to purchase* and calculate the probability of that *simple event*."
   ]
  },
  {
   "cell_type": "markdown",
   "metadata": {},
   "source": [
    "## Axoim of Probability: General Addition Rule\n",
    "To get the probability of the event $A$ or $B$, you need to consider the occurrence of either event $A$ or $B$ or both $A$ and $B$.\n",
    "- $P(A$ or $B) = P(A) + P(B) - P(A$ and $B)$\n",
    "- $P(A \\cup B) = P(A) + P(B) - P(A \\cap B)$"
   ]
  },
  {
   "cell_type": "markdown",
   "metadata": {},
   "source": [
    "### Example 1\n",
    "Use the purchase of Apple iPhone Xs Max table.\n",
    "\n",
    "What is the probability of planning to purchase Apple iPhone Xs Max or placed an order?\n",
    "\n",
    "### Solution"
   ]
  },
  {
   "cell_type": "code",
   "execution_count": null,
   "metadata": {},
   "outputs": [],
   "source": []
  },
  {
   "cell_type": "markdown",
   "metadata": {},
   "source": [
    "## Conditional probability refers to the probability of event A, given information about the occurrence of another event B"
   ]
  },
  {
   "cell_type": "markdown",
   "metadata": {},
   "source": [
    "Probability of $A$ given $B$ is written as $P(A | B)$.\n",
    "\n",
    "$P(A | B) = \\frac{P(A  \\cap  B)}{P(B)}$\n",
    "\n",
    "where $P(A \\cap B)$ = $P(A $ and $B)$ and follows the axiom above"
   ]
  },
  {
   "cell_type": "markdown",
   "metadata": {},
   "source": [
    "### Example 1\n",
    "Use the purchase of Apple iPhone Xs Max table.\n",
    "\n",
    "Find the conditional probability of actually placing an order, given that people planned to purchase.\n",
    "\n",
    "### Solution"
   ]
  },
  {
   "cell_type": "code",
   "execution_count": null,
   "metadata": {},
   "outputs": [],
   "source": []
  },
  {
   "cell_type": "markdown",
   "metadata": {},
   "source": [
    "### Example 2\n",
    "The following table describes loan default status at a bank and their marital status. \n",
    "\n",
    "| Marital Status | Loan Defaulted | Loan No Default | Marginal Total |\n",
    "| ----------- | ------ | ------- | -------- |\n",
    "| Single | 42 | 258 | 300 |\n",
    "| Married | 60 | 590 | 650 |\n",
    "| Divorced | 13 | 37 | 50 |\n",
    "| Marginal Total | 115 | 885 | 1000 |\n",
    "\n",
    "\n",
    "Based on the above table, calculate the probability of default  given divorced.\n",
    "\n",
    "### Solution"
   ]
  },
  {
   "cell_type": "code",
   "execution_count": null,
   "metadata": {},
   "outputs": [],
   "source": []
  },
  {
   "cell_type": "markdown",
   "metadata": {},
   "source": [
    "## Independent Events\n",
    "Events $A$ and $B$ are independent, when $P(A|B) = P(A)$\n",
    "where \n",
    "* $P(A|B)$ is the conditional probability of $A$ given $B$\n",
    "* $P(A)$   is the marginal probability of $A$\n",
    "\n",
    "So for independent events, our rule for joint probability is simplified. When events $A$ and $B$ are indepedent, $P(A\\cap B)= P(A) * P(B)$"
   ]
  },
  {
   "cell_type": "markdown",
   "metadata": {},
   "source": [
    "### Example 1\n",
    "\n",
    "Your experiement is rolling a six-sided die twice, one roll after the other.\n",
    "\n",
    "- a) What is the sample space of the experiement?\n",
    "- b) What is the probability of getting a \"6\" in two consecutive trials when rolling a six-sided die?\n",
    "- c) Are these two events independent? \n",
    "\n",
    "### Solution\n",
    "a) What is the sample space of the experiement?"
   ]
  },
  {
   "cell_type": "code",
   "execution_count": null,
   "metadata": {},
   "outputs": [],
   "source": []
  },
  {
   "cell_type": "markdown",
   "metadata": {},
   "source": [
    "b) What is the probability of getting a \"6\" in two consecutive trials when rolling a six-sided die?"
   ]
  },
  {
   "cell_type": "code",
   "execution_count": null,
   "metadata": {},
   "outputs": [],
   "source": []
  },
  {
   "cell_type": "markdown",
   "metadata": {},
   "source": [
    "c) Are these two events independent? "
   ]
  },
  {
   "cell_type": "code",
   "execution_count": null,
   "metadata": {},
   "outputs": [],
   "source": []
  },
  {
   "cell_type": "markdown",
   "metadata": {},
   "source": [
    "### Exercise 2\n",
    "What is the probability of getting a 2 on the face of three dice when they are rolled?\n",
    "\n",
    "### Solution"
   ]
  },
  {
   "cell_type": "code",
   "execution_count": null,
   "metadata": {},
   "outputs": [],
   "source": []
  },
  {
   "cell_type": "markdown",
   "metadata": {},
   "source": [
    "### Exercise 3\n",
    "You throw a die three times, what is the probability that one or more of your throws will come up with a 1?\n",
    "### Solution"
   ]
  },
  {
   "cell_type": "code",
   "execution_count": null,
   "metadata": {},
   "outputs": [],
   "source": []
  },
  {
   "cell_type": "markdown",
   "metadata": {},
   "source": [
    "### Exercise 4\n",
    "The following table describes loan default status at a Financial Institution and their Occupation status.\n",
    "\n",
    "| Occupation Status | Loan defaulted | Loan non-default | Total |\n",
    "| ----------------- | ---- | ----- | ---- |\n",
    "| Self Employed     | 80 | 240 | 320 |\n",
    "| Employed in Private Sector | 120 | 860 | 980 |\n",
    "| Employed in Government Sector | 200 | 3000 | 3200 |\n",
    "| Total | 400 | 4100 | 4500 | \n",
    "\n",
    "\n",
    "- a) What is the probability of a loan defaulting?\n",
    "- b) What is the conditional probability of default, given the occupation category of *self-employed*?\n",
    "- c) Calculate the occupation status that has maximum conditional probability of default.\n",
    "\n",
    "### Solution\n",
    "a) What is the probability of a loan defaulting?"
   ]
  },
  {
   "cell_type": "code",
   "execution_count": null,
   "metadata": {},
   "outputs": [],
   "source": []
  },
  {
   "cell_type": "markdown",
   "metadata": {},
   "source": [
    "b) What is the conditional probability of default, given the occupation category of *self-employed*?"
   ]
  },
  {
   "cell_type": "code",
   "execution_count": null,
   "metadata": {},
   "outputs": [],
   "source": []
  },
  {
   "cell_type": "markdown",
   "metadata": {},
   "source": [
    "c) Calculate the occupation status that has maximum conditional probability of default."
   ]
  },
  {
   "cell_type": "code",
   "execution_count": null,
   "metadata": {},
   "outputs": [],
   "source": []
  },
  {
   "cell_type": "markdown",
   "metadata": {
    "collapsed": true
   },
   "source": [
    "## Application of Probability Rules: Association Rule Mining\n",
    "\n",
    "By using simple probability concepts such as joint probability and conditional probability, we can solve market basket analysis and recommender systems using association rule mining.\n",
    "- **Market Basket Analysis** is used frequently by retailers to predict products a customer is likely to buy together to improve their sales. For example, if a customer buys bread, they are likely to buy jam or butter as well. \n",
    "- **Recommender Systems** are models that produce list of recommendations to a customer on products such as moives, electronic items, etc. Amazon and other online retailers use these systems heavily. \n",
    "- **Association Rule Mining** is a method of finding association between different entities in data. In a retail context, this is a method of finding association relationships that exists in *items frequently purchased* or *frequently purchased items*. \n",
    "- **Association** is a relationship of the form $X$ -> $Y$ ($X$ implies $Y$), where $X$ and $Y$ are mutually exclusive. The strength of the association between two subsets can be described by the support, confidence and the lift. \n",
    "\n",
    "\n",
    "### The Data\n",
    "| Invoice No | Milk | Bread | Butter | Jam |\n",
    "| --- | ---- | ---- | ---- | ----- |\n",
    "| 1 | Y | Y | N | N|\n",
    "| 2 | N | Y | Y | N|\n",
    "| 3 | N | Y | Y | N|\n",
    "| 4 | N | Y | N | Y|\n",
    "| 5 | Y | Y | N | N|\n",
    "| 6 | Y | Y | N | N|\n",
    "| 7 | N | Y | Y | N|\n",
    "| 8 | N | Y | Y | N|\n",
    "| 9 | N | Y | N | Y|\n",
    "| 10 | Y | N | N | N|\n",
    "\n",
    "In the above table, milk, bread, butter, and jam are the different products sold by the store. Y means the item is purchased and N means the item is not purchased. The strength of the association between two mutually exclusive subsets can be measured using *support*, *confidence* and *lift*.\n",
    "\n",
    "\n",
    "### Support between two sets is the joint probability of those events\n",
    "* Support is the proportion of times items $A$ and $B$ are purchased together.\n",
    "* The support of the association $A$ and $B$ is written \n",
    "$Support(A, B) = P(A \\cap B) =\\frac{n(A \\quad \\cap \\quad B)}{Total \\quad number \\quad of \\quad observations}$ where $n(A \\cap B)$ is the number of times both item $A$ and item $B$ is purchased together."
   ]
  },
  {
   "cell_type": "markdown",
   "metadata": {},
   "source": [
    "### Example\n",
    "For the association bread -> milk, what is the support of the relationship?\n",
    "\n",
    "### Solution\n",
    "$Support(Bread, Milk) =$"
   ]
  },
  {
   "cell_type": "code",
   "execution_count": null,
   "metadata": {},
   "outputs": [],
   "source": []
  },
  {
   "cell_type": "markdown",
   "metadata": {},
   "source": [
    "### Confidence is the conditional probability of purchasing item A, given the item B is purchased\n",
    "* Confidence is the probability of purchasing item $A$ given item $B$ is purchased.\n",
    "* The confidence of the association $A$ and $B$ is written \n",
    "$Confidence(A, B) = \\frac{P(A \\cap  B)}{P(A)}$ \n",
    "\n",
    "### Example\n",
    "For the association bread -> milk, what is the confidence of the relationship?\n",
    "\n",
    "### Solution\n",
    "$Confidence(A, B) =$"
   ]
  },
  {
   "cell_type": "code",
   "execution_count": null,
   "metadata": {},
   "outputs": [],
   "source": []
  },
  {
   "cell_type": "markdown",
   "metadata": {},
   "source": [
    "### Lift is a measure for a rule.\n",
    "* With lift value you can interpret the importance of a rule. \n",
    "* The lift value of an association rule is the ratio of the confidence of the rule and the expected confidence of the rule.\n",
    "* The expected confidence of a rule is the product of the support values of the rule body and rule head divided by the support of the rule body. In our example, A is the rule head and B is the rule body.\n",
    "* The lift of the association $A$ and $B$ is written $Lift(A,B) = \\frac {P(A ∩ B)} {P(A) P(B)}$\n",
    "\n",
    "### Example\n",
    "For the association bread -> milk, what is the lift of the relationship?\n",
    "\n",
    "### Solution\n",
    "$Lift(A, B) =$"
   ]
  },
  {
   "cell_type": "code",
   "execution_count": null,
   "metadata": {},
   "outputs": [],
   "source": []
  },
  {
   "cell_type": "markdown",
   "metadata": {},
   "source": [
    "### Association rules can be generated based on threshold values of support, confidence and lift.\n",
    "\n",
    "Assume that the threshold values are given for these measures as follows:\n",
    "* Support    = 0.25\n",
    "* Confidence = 0.50\n",
    "* Lift       > 1\n",
    "\n",
    "For bread -> milk, what are the three values you calculated? \n",
    "* Support    is \n",
    "* Confidence is \n",
    "* Lift       is \n",
    "\n",
    "\n",
    "Is this rule qualified to be an association rule? If the support, confidence, and lift meet the threshold, then the rule is qualified to be a association.\n",
    "* "
   ]
  },
  {
   "cell_type": "markdown",
   "metadata": {
    "collapsed": true
   },
   "source": [
    "## Bayes' theorem\n",
    "\n",
    "Bayes' theorem described the probability of an event, based on prior knowledge of conditions that might be related to the event.\n",
    "\n",
    "Mathematically, we define Bayes' theorem as\n",
    "\n",
    "$P(B_{i}\\mid A) = \\frac{P(A \\mid B_{i}) P(B_{i})}{P(A \\mid B_{1})P(B_{1}) + P(A \\mid B_{2}) P(B_{2}) + P(A \\mid B_{3}) P(B_{3}) + .. + P(A \\mid B_{k}) P(B_{k})}$\n",
    "\n",
    "where \n",
    "* $B_{i}$ is the $i$-th event of $k$ mutually exclusive and collectively exhaustive events\n",
    "* $A$ is the new event that might impact $P(B_{i})$"
   ]
  },
  {
   "cell_type": "markdown",
   "metadata": {},
   "source": [
    "### Example 1\n",
    "\n",
    "A certain Electronic equipment is manufactured by three companies, X, Y and Z. \n",
    "* 75% are manufactured by X\n",
    "* 15% are manufactured by Y\n",
    "* 10% are manufactured by Z\n",
    "\n",
    "The defect rates of electronic equipment manufactured by companies X, Y and Z are 4%, 6% and 8% respectively.\n",
    "\n",
    "If an electronic equipment is randomly found to be defective, what is the probability that it is manufactured by X?\n",
    "\n",
    "### Solution\n",
    "* Let P(X),P(Y) and P(Z) be probabilities of the electronic equipment manufactured by companies X, Y and Z respectively. \n",
    "* Let P(D) be the probability of defective electronic equipment.\n",
    "\n",
    "We are interested in calculating the probability $P(X|D)$. Use Bayes' Rule to calculate the probability"
   ]
  },
  {
   "cell_type": "code",
   "execution_count": null,
   "metadata": {},
   "outputs": [],
   "source": []
  },
  {
   "cell_type": "markdown",
   "metadata": {},
   "source": [
    "### Example 2\n",
    "Given the following statistics, what is the probability that a woman has cancer if she has a positive mammogram result?\n",
    "\n",
    "* a) \t1% of over 50 have breast cancer.\n",
    "* b) \t90% of women who have breast cancer test positive on mammograms,\n",
    "* c) \t8% of women will have false positive\n",
    "\n",
    "Let \n",
    "* event A   denote woman has breast cancer\n",
    "* event ~A  denote woman has no breast cancer\n",
    "* event T   denote mammogram test is positive \n",
    "* event ~T  denote mammogram test is negative \n",
    "\n",
    "\n",
    "### Solution\n",
    "What is the probability that a woman has cancer if she has a positive mammogram result?\n",
    "\n",
    "$P(A \\mid T)$ = "
   ]
  },
  {
   "cell_type": "code",
   "execution_count": null,
   "metadata": {},
   "outputs": [],
   "source": []
  },
  {
   "cell_type": "markdown",
   "metadata": {},
   "source": [
    "### Example 3\n",
    "A1 Electronic World is considering marketing a new model of televisions. In the past, 40% of the new model televisions have been successful, and 60% have been unsuccessful. Before introducing the new model television, the marketing research department conducts an extensive study and releases a report, either favorble or unfavorable.\n",
    "\n",
    "In the past, 80% of the successful new-model televisions had received favorable market reports, and 30% of the unsuccessful new-model televisions had received favorable reports. For the new model of television under consideration, the marketing research department has issued a favorable report.\n",
    "\n",
    "What is the probability that the television is successful given a favorable report?\n",
    "\n",
    "Let the following events be represented as follows:\n",
    "* $S$  denote the successful television\n",
    "* $US$ denote the unsuccessful television\n",
    "* $F$  denote the favorable report\n",
    "* $UF$ denote the unfavorable television\n",
    "\n",
    "\n",
    "### Solution\n",
    "$P(S\\mid F)$ = "
   ]
  },
  {
   "cell_type": "code",
   "execution_count": null,
   "metadata": {},
   "outputs": [],
   "source": []
  },
  {
   "cell_type": "markdown",
   "metadata": {},
   "source": [
    "### Exercise 4\n",
    "\n",
    "The following contingency table list the probabilities of a person having a certain disease and the result of the diagnostic test conducted to determine whether the person is having the disease.\n",
    "\n",
    "* Let $D$ be the event of having the disease and the event $D'$ not having the disease.\n",
    "* Let $T$ be the event of having the test result positive and $T'$ be the event of not having the test result positive.\n",
    "\n",
    "* $P(D)    = 0.03$\n",
    "* $P(D')   = 0.97$\n",
    "* $P(T|D)  = 0.90$\n",
    "* $P(T|D') = 0.01$\n",
    "\n",
    "\n",
    "What is the probability that the disease is acually present given a positive test result?\n",
    "\n",
    "\n",
    "### Solution"
   ]
  },
  {
   "cell_type": "code",
   "execution_count": null,
   "metadata": {},
   "outputs": [],
   "source": []
  },
  {
   "cell_type": "markdown",
   "metadata": {},
   "source": [
    "### Exercise 6\n",
    "A1 Construction company is determining whether it should submit a bid for  a new shopping mall. In the past, A1's main competitor, Pyramid Construction company has submitted bids 70% of the time. If Pyramid Construction company does not bid on a job, the probability that A1 Construction Company will get the job is 50%. If the Pyramid Construction company bids on a job, the probability that A1 Construction company will get the job is 25%.\n",
    "\n",
    "* a) If A1 Construction company gets the job, what is the probability that Pyramid Construction company did not bid?\n",
    "* b)  What is the probability that A1 Construction company will get the job?\n",
    "\n",
    "\n",
    "### Solution\n",
    "a) If A1 Construction company gets the job, what is the probability that Pyramid Construction company did not bid?"
   ]
  },
  {
   "cell_type": "code",
   "execution_count": null,
   "metadata": {},
   "outputs": [],
   "source": []
  },
  {
   "cell_type": "markdown",
   "metadata": {},
   "source": [
    "b)  What is the probability that A1 Construction company will get the job?"
   ]
  },
  {
   "cell_type": "code",
   "execution_count": null,
   "metadata": {},
   "outputs": [],
   "source": []
  },
  {
   "cell_type": "markdown",
   "metadata": {},
   "source": [
    "### Exercise 7\n",
    "You flip a coin and roll a six-sided dice, what is the probability that the coin comes up tails and the dice comes up with 6?"
   ]
  },
  {
   "cell_type": "code",
   "execution_count": null,
   "metadata": {},
   "outputs": [],
   "source": []
  }
 ],
 "metadata": {
  "kernelspec": {
   "display_name": "Python 3",
   "language": "python",
   "name": "python3"
  },
  "language_info": {
   "codemirror_mode": {
    "name": "ipython",
    "version": 3
   },
   "file_extension": ".py",
   "mimetype": "text/x-python",
   "name": "python",
   "nbconvert_exporter": "python",
   "pygments_lexer": "ipython3",
   "version": "3.10.12"
  }
 },
 "nbformat": 4,
 "nbformat_minor": 2
}
